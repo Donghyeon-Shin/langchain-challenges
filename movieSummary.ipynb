{
 "cells": [
  {
   "cell_type": "code",
   "execution_count": 1,
   "metadata": {},
   "outputs": [],
   "source": [
    "from langchain_openai import ChatOpenAI\n",
    "from langchain.callbacks import StdOutCallbackHandler\n",
    "\n",
    "llm = ChatOpenAI(\n",
    "    temperature=0.1,\n",
    "    model=\"gpt-3.5-turbo-1106\",\n",
    "    streaming=True,\n",
    "    callbacks=[StdOutCallbackHandler()],\n",
    ")"
   ]
  },
  {
   "cell_type": "code",
   "execution_count": 4,
   "metadata": {},
   "outputs": [],
   "source": [
    "from langchain.prompts import PromptTemplate, FewShotPromptTemplate\n",
    "\n",
    "examples = [\n",
    "    {\n",
    "        \"question\": \"모아나 영화에 대한 정보를 알고 싶어\",\n",
    "        \"answer\": \"\"\"\n",
    "        감독 : 론 클레먼츠, 존 머스커\n",
    "        주요 출연진 : 아울리이 크러발리오, 드웨인 존슨\n",
    "        예산 : $150,000,000\n",
    "        흥행 수익 : $643,355,082\n",
    "        장르 : #애니메이션, #가족, #뮤지컬, #액션, #어드벤처, #판타지, #코미디\n",
    "        간단한 줄거리 : 올 겨울 최고의 디즈니 콤비 모아나&마우이 바다에서 펼쳐지는 황홀한 모험의 신세계! 모든 것이 완벽했던 모투누이 섬이 저주에 걸리자 바다가 선택한 소녀 모아나는 섬을 구하기 위해 머나먼 항해를 떠난다. 저주를 풀기 위해서는 오직 신이 선택한 전설의 영웅 마우이의 힘이 필요한 상황! 모아나는 마우이를 우여곡절 끝 설득해, 운명적 모험을 함께 떠나는데…\n",
    "        \"\"\",\n",
    "    },\n",
    "    {\n",
    "        \"question\": \"은밀하게 위대하게 영화에 대한 정보를 알고 싶어\",\n",
    "        \"answer\": \"\"\"\n",
    "        감독 : 장철수\n",
    "        주요 출연진 : 김수현, 박기웅, 이현우, 손현주\n",
    "        예산 : ₩7,000,000,000\n",
    "        흥행 수익 : $43,447,199 \n",
    "        장르 : #액션, #드라마, #코미디, #느와르, #첩보\n",
    "        간단한 줄거리 : 공화국에선 혁명전사,이 곳에선 간첩. 들개로 태어나 괴물로 길러진 내 남파임무는 어이없지만 동네 바보입니다. 어느 날 그에게 전혀 뜻밖의 은밀하고 위대한 임무가 내려진다. 전설이 되어야만 돌아갈 수 있는 그의 이야기가 지금 시작됩니다.\n",
    "        \"\"\",\n",
    "    },\n",
    "    {\n",
    "        \"question\": \"아바타타 영화에 대한 정보를 알고 싶어\",\n",
    "        \"answer\": \"\"\"\n",
    "        감독 : 제임스 카메론\n",
    "        주요 출연진 : 샘 워딩턴, 조 샐다나, 스티븐 랭, 미셸 로드리게스, 시고니 위버\n",
    "        예산 : $237,000,000\n",
    "        흥행 수익 : $2,923,706,026\n",
    "        장르 : #밀리터리 SF, #액션, #스릴러, #전쟁, #판타지, #어드벤처, #로맨스, #드라마\n",
    "        간단한 줄거리 : 인류의 마지막 희망, 행성 판도라! 이곳을 정복하기 위한 ‘아바타 프로젝트’가 시작된다! 행성 판도라와 지구의 피할 수 없는 전쟁! 이 모든 운명을 손에 쥔 제이크의 선택은?\n",
    "        \"\"\",\n",
    "    },\n",
    "]\n",
    "\n",
    "example_template = \"\"\"\n",
    "    Human : {question}\n",
    "    AI : {answer}\n",
    "\"\"\"\n",
    "\n",
    "example_prompt = PromptTemplate.from_template(example_template)\n",
    "\n",
    "prompt = FewShotPromptTemplate(\n",
    "    example_prompt=example_prompt,\n",
    "    examples=examples,\n",
    "    suffix=\"Human : {movie} 영화에 대한 정보를 알고 싶어\",\n",
    "    input_variables=[\"movie\"],\n",
    ")"
   ]
  },
  {
   "cell_type": "code",
   "execution_count": 9,
   "metadata": {},
   "outputs": [
    {
     "data": {
      "text/plain": [
       "'AI : \\n        감독 : 프랭크 다라본트\\n        주요 출연진 : 팀 로빈스, 모건 프리먼, 보브 건튼, 윌리엄 사드러\\n        예산 : $25,000,000\\n        흥행 수익 : $58,500,000\\n        장르 : #범죄, #드라마\\n        간단한 줄거리 : 안락한 쇼생크 교도소에서 19년간의 석방을 꿈꾸며 살아온 앤디. 그는 교도소 내에서 새로운 삶을 시작하고자 계획을 세우는데...'"
      ]
     },
     "execution_count": 9,
     "metadata": {},
     "output_type": "execute_result"
    }
   ],
   "source": [
    "chain = prompt | llm\n",
    "\n",
    "result = chain.invoke({\"movie\" : \"쇼생크 탈출\"}).content\n",
    "\n",
    "with open(\"./movieSummary_result.txt\", \"w\") as f:\n",
    "    f.write(result)\n",
    "\n",
    "result"
   ]
  }
 ],
 "metadata": {
  "kernelspec": {
   "display_name": "env",
   "language": "python",
   "name": "python3"
  },
  "language_info": {
   "codemirror_mode": {
    "name": "ipython",
    "version": 3
   },
   "file_extension": ".py",
   "mimetype": "text/x-python",
   "name": "python",
   "nbconvert_exporter": "python",
   "pygments_lexer": "ipython3",
   "version": "3.12.3"
  }
 },
 "nbformat": 4,
 "nbformat_minor": 2
}
