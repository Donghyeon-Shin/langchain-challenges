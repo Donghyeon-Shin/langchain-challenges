{
 "cells": [
  {
   "cell_type": "code",
   "execution_count": 12,
   "metadata": {},
   "outputs": [],
   "source": [
    "from langchain_openai import ChatOpenAI\n",
    "from langchain.callbacks import StdOutCallbackHandler\n",
    "\n",
    "llm = ChatOpenAI(\n",
    "    temperature=0.1,\n",
    "    model=\"gpt-3.5-turbo-1106\",\n",
    "    streaming=True,\n",
    "    callbacks=[StdOutCallbackHandler()],\n",
    ")"
   ]
  },
  {
   "cell_type": "code",
   "execution_count": 24,
   "metadata": {},
   "outputs": [
    {
     "data": {
      "text/plain": [
       "'Poetry\\n파이썬 코드는 아름다워\\n그 흐름은 마치 강물 같아\\n들여다보면 끝이 없는 신비\\n그 안에는 창조의 능력이 흐른다\\n\\n변수와 함수가 춤을 추며\\n데이터는 자유롭게 흘러간다\\n조건문과 반복문이 노래하며\\n문제를 해결해 나간다\\n\\n파이썬 코드는 마치 시\\n그 우아한 문법은 시를 읽는 듯\\n작성자의 마음을 담아\\n세상을 빛나게 하는 것 같아\\n\\n파이썬 코드여, 너의 아름다움에\\n나는 빠져든다, 너의 매력에\\n세상을 빛내는 그 순간까지\\n나는 너를 사랑하리라\\n\\nExplain\\n이 시는 파이썬 프로그래밍 언어에 대한 열정과 사랑에 대한 내용을 담고 있습니다. 시인은 파이썬 코드의 아름다움과 흐름을 강물에 비유하여 표현하며, 파이썬의 신비로운 특성과 창조적인 능력을 감탄하고 있습니다. 또한 변수, 함수, 조건문, 반복문 등의 다양한 기술적 요소들을 춤추는 것으로 표현하여 파이썬 코드의 자유로움과 논리적인 특성을 감상하고 있습니다. 시인은 파이썬 코드를 마치 시처럼 읽고, 작성자의 마음을 담아 세상을 빛나게 하는 것으로 느끼고 있으며, 파이썬 코드에 대한 사랑과 매력에 빠져들고 있음을 표현하고 있습니다.'"
      ]
     },
     "execution_count": 24,
     "metadata": {},
     "output_type": "execute_result"
    }
   ],
   "source": [
    "from langchain.prompts import ChatPromptTemplate\n",
    "\n",
    "poetry_prompt = ChatPromptTemplate.from_messages(\n",
    "    [\n",
    "        (\n",
    "            \"system\",\n",
    "            \"너는 훌륭한 시인이야. 너는 프로그래밍에 깊은 조예를 가지고 있어. 너는 오직 한글를 사용하여 시를 만들어\",\n",
    "        ),\n",
    "        (\"human\", \"{thema}을 주제로한 시를 작성해줘.\"),\n",
    "    ]\n",
    ")\n",
    "\n",
    "explain_prompt = ChatPromptTemplate.from_messages(\n",
    "    [\n",
    "        (\n",
    "            \"system\",\n",
    "            \"\"\"\n",
    "            너는 시의 내용을 설명하는데 뛰어난 능력을 가지고 있어. 특정 시가 주어지면 이를 세세히 분석해 설명해주어야 해. 시를 분석하기 앞서 시의 내용도 수정없이 다 출력해줘\n",
    "            \n",
    "            출력 예시\n",
    "            \n",
    "            Poetry\n",
    "            C++이란 언어는 아름다움을 담아\n",
    "            코드를 작성하며 마음을 전해\n",
    "            객체지향의 아름다움을 담아\n",
    "            프로그래밍의 세계를 열어\n",
    "\n",
    "            포인터와 참조를 통해\n",
    "            메모리를 다루는 그 힘을 보여\n",
    "            클래스와 상속을 통해\n",
    "            객체를 모델링하는 그 능력을 보여\n",
    "\n",
    "            템플릿과 STL을 통해\n",
    "            유연한 구조를 만들어\n",
    "            알고리즘과 컨테이너를 통해\n",
    "            문제를 해결하는 그 힘을 보여\n",
    "\n",
    "            C++이란 언어는 아름다움을 담아\n",
    "            프로그래밍의 세계를 빛내는 그 힘을 보여\n",
    "            \n",
    "            Explain\n",
    "            이 시는 C++ 프로그래밍 언어에 대한 열정과 탐구에 대한 내용을 담고 있습니다. 시인은 C++의 코드를 통해 세상을 표현하고, 객체지향 프로그래밍의 아름다움과 다양한 기술적 요소들을 탐험하며 즐거움을 느끼고 있다는 내용을 담고 있습니다. 또한 C++의 세계는 끝이 없이 넓고 무한한 가능성이 펼쳐져 있으며, 시인은 계속해서 탐험하며 새로운 코드의 세계를 만들어가고자 하는 열망을 담고 있습니다.\n",
    "            \"\"\",\n",
    "        ),\n",
    "        (\"human\", \"{poetry}\")\n",
    "    ]\n",
    ")\n",
    "\n",
    "poetry_chain = poetry_prompt | llm\n",
    "\n",
    "explain_chain = explain_prompt | llm\n",
    "\n",
    "final_chain = {\"poetry\": poetry_chain} | explain_chain\n",
    "\n",
    "result = final_chain.invoke({\"thema\": \"python\"}).content\n",
    "\n",
    "with open(\"./poetry_result.txt\", \"w\") as f:\n",
    "    f.write(result)\n",
    "\n",
    "result"
   ]
  }
 ],
 "metadata": {
  "kernelspec": {
   "display_name": "env",
   "language": "python",
   "name": "python3"
  },
  "language_info": {
   "codemirror_mode": {
    "name": "ipython",
    "version": 3
   },
   "file_extension": ".py",
   "mimetype": "text/x-python",
   "name": "python",
   "nbconvert_exporter": "python",
   "pygments_lexer": "ipython3",
   "version": "3.12.3"
  }
 },
 "nbformat": 4,
 "nbformat_minor": 2
}
